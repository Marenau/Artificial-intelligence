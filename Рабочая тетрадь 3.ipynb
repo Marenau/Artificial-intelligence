{
 "cells": [
  {
   "attachments": {},
   "cell_type": "markdown",
   "metadata": {},
   "source": [
    "# Рабочая тетрадь №2\n",
    "\n",
    "## Теоретический материал\n",
    "\n",
    "### Функции Python\n",
    "Перед тем как рассматривать задачи классификации вспомним понятие функции (метода) в Python. Функция в python - объект, принимающий аргументы и возвращающий значение. Обычно функция\n",
    "определяется с помощью инструкции 'def'.\n",
    "<p>Определим простейшую функцию:\n",
    "<br><b>def add(x, y):\n",
    "<br>&nbsp;&nbsp;&nbsp;&nbsp;return x + y</b>\n",
    "<p>Инструкция return говорит, что нужно вернуть значение. В нашем случае функция возвращает сумму x и y. Теперь мы ее можем вызвать:\n",
    "<br><b>add(1, 10)\n",
    "<br>add('abc', 'def')\n",
    "<br>'abcdef'</b>\n",
    "<p>Функция может быть любой сложности и возвращать любые объекты (списки, кортежи, и даже функции):\n",
    "<br><b>def newfunc(n):\n",
    "<br>&nbsp;&nbsp;&nbsp;&nbsp;def myfunc(x):\n",
    "<br>&nbsp;&nbsp;&nbsp;&nbsp;&nbsp;&nbsp;&nbsp;&nbsp;return x + n\n",
    "<br>&nbsp;&nbsp;&nbsp;&nbsp;return myfunc\n",
    "<br>new = newfunc(100) # new - это функция\n",
    "<br>new(200)\n",
    "<br>300</b>\n",
    "<p>Функция может и не заканчиваться инструкцией return, при этом функция вернет значение None:\n",
    "<br><b>def func():\n",
    "<br>&nbsp;&nbsp;&nbsp;&nbsp;pass\n",
    "<br>print(func())\n",
    "<br>None</b>\n",
    "<p>Функция может принимать произвольное количество аргументов или не принимать их вовсе. Также распространены функции с произвольным числом аргументов, функции с позиционными и именованными аргументами, обязательными и необязательными.\n",
    "<br><b>def func(*args):\n",
    "<br>&nbsp;&nbsp;&nbsp;&nbsp;return args\n",
    "<br>func(1, 2, 3, 'abc')\n",
    "<br>(1, 2, 3, 'abc')\n",
    "<br>func()\n",
    "<br>()\n",
    "<br>func(1)\n",
    "<br>(1,)</b>\n",
    "<p>Как видно из примера, args - это кортеж из всех переданных аргументов функции, и с переменной можно работать также, как и с кортежем.\n",
    "<br>Функция может принимать и произвольное число именованных аргументов, тогда перед именем ставится **:\n",
    "<br><b>def func(**kwargs):\n",
    "<br>&nbsp;&nbsp;&nbsp;&nbsp;return kwargs\n",
    "<br>func(a=1, b=2, c=3)\n",
    "<br>{'a': 1, 'c': 3, 'b': 2}\n",
    "<br>func()\n",
    "<br>{}\n",
    "<br>func(a='python')\n",
    "<br>{'a': 'python'}</b>\n",
    "\n",
    "## Задание 1.3\n",
    "\n",
    "Выведите на печать и определите тип переменной."
   ]
  },
  {
   "cell_type": "markdown",
   "metadata": {},
   "source": []
  }
 ],
 "metadata": {
  "kernelspec": {
   "display_name": "base",
   "language": "python",
   "name": "python3"
  },
  "language_info": {
   "name": "python",
   "version": "3.9.13"
  },
  "orig_nbformat": 4,
  "vscode": {
   "interpreter": {
    "hash": "effd5ffa0893d4c46fe13a44dda64ba9f68f218083cab2ba7460d7147553a00b"
   }
  }
 },
 "nbformat": 4,
 "nbformat_minor": 2
}
