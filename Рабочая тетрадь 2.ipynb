{
 "cells": [
  {
   "attachments": {},
   "cell_type": "markdown",
   "metadata": {},
   "source": [
    "# Рабочая тетрадь №2\n",
    "\n",
    "## Теоретический материал\n",
    "\n",
    "### Библиотека NumPy\n",
    "\n",
    "NumPy (<b>Num</b>erical<b>Py</b>thon) - это библиотека Python с открытым исходным кодом, которая используется практически во всех областях науки и техники. Это универсальный стандарт для работы с числовыми данными в Python.\n",
    "<p>Если у вас уже есть Python, вы можете установить NumPy с помощью\n",
    "командной строки:\n",
    "<br>&nbsp;&nbsp;pip install numpy\n",
    "<p>Чтобы начать использовать NumPy необходимо импортировать соответствующую библиотеку:\n",
    "<br>&nbsp;&nbsp;import numpy as np\n",
    "<p>Основным объектом NumPy является однородный многомерный массив (в numpy называется numpy.ndarray). Это многомерный массив элементов (обычно чисел), одного типа.\n",
    "<p>Наиболее важные атрибуты объектов ndarray:\n",
    "<br><b>ndarray.ndim</b> - число измерений (чаще их называют \"оси\") массива.\n",
    "<br><b>ndarray.shape</b> - размеры массива, его форма. Это кортеж натуральных чисел, показывающий длину массива по каждой оси. Для матрицы из n строк и m столбов, shape будет (n,m). Число элементов кортежа shape равно ndim.\n",
    "<br><b>ndarray.size</b> - количество элементов массива. Очевидно, равно произведению всех элементов атрибута shape.\n",
    "<br><b>ndarray.dtype</b> - объект, описывающий тип элементов массива. Можно определить dtype, используя стандартные типы данных Python. NumPy здесь предоставляет целый букет возможностей, как встроенных, например: bool_, character, int8, int16, int32, int64, float8, float16, float32, float64, complex64, object_, так и возможность определить собственные типы данных, в том числе и составные.\n",
    "<br><b>ndarray.itemsize</b> - размер каждого элемента массива в байтах.\n",
    "<br><b>ndarray.data</b> - буфер, содержащий фактические элементы массива.\n",
    "<p>Обычно не нужно использовать этот атрибут, так как обращаться к элементам массива проще всего с помощью индексов.\n",
    "<p>Подробнее о массивах в NumPy можно найти в официальной документации https://numpy.org/doc/stable/user/absolute_beginners.html\n",
    "\n",
    "## Задание 1.3.1\n",
    "\n",
    "Создать 8x8 матрицу и заполнить её в шахматном порядке нулями и\n",
    "единицами."
   ]
  },
  {
   "cell_type": "code",
   "execution_count": 1,
   "metadata": {},
   "outputs": [
    {
     "name": "stdout",
     "output_type": "stream",
     "text": [
      "[[0 1 0 1 0 1 0 1]\n",
      " [1 0 1 0 1 0 1 0]\n",
      " [0 1 0 1 0 1 0 1]\n",
      " [1 0 1 0 1 0 1 0]\n",
      " [0 1 0 1 0 1 0 1]\n",
      " [1 0 1 0 1 0 1 0]\n",
      " [0 1 0 1 0 1 0 1]\n",
      " [1 0 1 0 1 0 1 0]]\n"
     ]
    }
   ],
   "source": [
    "import numpy as np\n",
    "\n",
    "# Создаем матрицу 8x8 с нулями\n",
    "matrix = np.zeros((8, 8), dtype = int)\n",
    "\n",
    "# Заполняем её единицами с шахматным порядком\n",
    "matrix[1::2, ::2] = 1\n",
    "matrix[::2, 1::2] = 1\n",
    "print(matrix)"
   ]
  },
  {
   "attachments": {},
   "cell_type": "markdown",
   "metadata": {},
   "source": [
    "## Задание 1.3.2\n",
    "\n",
    "Создать 5x5 матрицу со значениями в строках от 0 до 4. Для создания\n",
    "необходимо использовать функцию arrange."
   ]
  },
  {
   "cell_type": "code",
   "execution_count": 10,
   "metadata": {},
   "outputs": [
    {
     "name": "stdout",
     "output_type": "stream",
     "text": [
      "[[0. 0. 0. 0. 0.]\n",
      " [1. 1. 1. 1. 1.]\n",
      " [2. 2. 2. 2. 2.]\n",
      " [3. 3. 3. 3. 3.]\n",
      " [4. 4. 4. 4. 4.]]\n"
     ]
    }
   ],
   "source": [
    "import numpy as np\n",
    "\n",
    "matrix = np.arange(5).reshape(5, 1) + np.zeros(5)\n",
    "print(matrix)"
   ]
  },
  {
   "attachments": {},
   "cell_type": "markdown",
   "metadata": {},
   "source": [
    "## Задание 1.3.3\n",
    "\n",
    "Создать массив 3x3x3 со случайными значениями."
   ]
  },
  {
   "cell_type": "code",
   "execution_count": 14,
   "metadata": {},
   "outputs": [
    {
     "name": "stdout",
     "output_type": "stream",
     "text": [
      "[[[0.64996746 0.75980479 0.48783801]\n",
      "  [0.03500392 0.61682632 0.54554409]\n",
      "  [0.55770328 0.1373643  0.55730396]]\n",
      "\n",
      " [[0.86228155 0.06452926 0.64812614]\n",
      "  [0.7244947  0.90830886 0.92633772]\n",
      "  [0.08730685 0.86024817 0.11334048]]\n",
      "\n",
      " [[0.25656458 0.8940793  0.79920278]\n",
      "  [0.33363758 0.78076034 0.87375613]\n",
      "  [0.65746805 0.95343862 0.76156173]]]\n"
     ]
    }
   ],
   "source": [
    "import numpy as np\n",
    "\n",
    "arr = np.random.rand(3, 3, 3)\n",
    "print(arr)"
   ]
  },
  {
   "attachments": {},
   "cell_type": "markdown",
   "metadata": {},
   "source": [
    "## Задание 1.3.4\n",
    "\n",
    "Создать матрицу с 0 внутри, и 1 на границах."
   ]
  },
  {
   "cell_type": "code",
   "execution_count": 13,
   "metadata": {},
   "outputs": [
    {
     "name": "stdout",
     "output_type": "stream",
     "text": [
      "[[1. 1. 1. 1. 1.]\n",
      " [1. 0. 0. 0. 1.]\n",
      " [1. 0. 0. 0. 1.]\n",
      " [1. 0. 0. 0. 1.]\n",
      " [1. 1. 1. 1. 1.]]\n"
     ]
    }
   ],
   "source": [
    "import numpy as np\n",
    "\n",
    "# Создание матрицы из единиц\n",
    "matrix = np.ones((5, 5))\n",
    "\n",
    "# Замена неграничных элементов на нули\n",
    "matrix[1:-1, 1:-1] = 0\n",
    "\n",
    "print(matrix)"
   ]
  },
  {
   "attachments": {},
   "cell_type": "markdown",
   "metadata": {},
   "source": [
    "## Задание 1.3.5\n",
    "\n",
    "Создайте массив и отсортируйте его по убыванию."
   ]
  },
  {
   "cell_type": "code",
   "execution_count": 12,
   "metadata": {},
   "outputs": [
    {
     "name": "stdout",
     "output_type": "stream",
     "text": [
      "[96 92 86 80 63 56 56 53 38 10]\n"
     ]
    }
   ],
   "source": [
    "import numpy as np\n",
    "\n",
    "# Создаем массив из 10 случайных чисел\n",
    "arr = np.random.randint(0, 100, size=10)\n",
    " \n",
    "# Сортируем по убыванию\n",
    "arr_sorted = np.sort(arr)[::-1]\n",
    "\n",
    "print(arr_sorted)"
   ]
  },
  {
   "attachments": {},
   "cell_type": "markdown",
   "metadata": {},
   "source": [
    "## Задание 1.3.6\n",
    "\n",
    "Создайте матрицу, выведите ее форму, размер и размерность."
   ]
  },
  {
   "cell_type": "code",
   "execution_count": 16,
   "metadata": {},
   "outputs": [
    {
     "name": "stdout",
     "output_type": "stream",
     "text": [
      "(3, 4)\n",
      "12\n",
      "2\n"
     ]
    }
   ],
   "source": [
    "import numpy as np\n",
    "\n",
    "# Создаем матрицу 3x4, заполненную нулями\n",
    "matrix = np.zeros((3, 4)) \n",
    "\n",
    "print(matrix.shape) # Форма\n",
    "print(matrix.size)  # Количество элементов\n",
    "print(matrix.ndim)  # Размерность"
   ]
  },
  {
   "attachments": {},
   "cell_type": "markdown",
   "metadata": {},
   "source": [
    "## Теоретический материал\n",
    "\n",
    "### Библиотека Pandas\n",
    "\n",
    "Первым шагом в любом начинании в области машинного обучения является введение исходных данных в систему. Исходные данные могут вводиться вручную, содержаться в файле или храниться в интернете в каком-либо формате. Кроме того, часто требуется получить данные из нескольких источников.\n",
    "<p><i>Библиотека pandas</i> – это удобный и быстрый инструмент для работы с данными, обладающий большим функционалом. Если очень кратко, то <i>pandas</i> – это библиотека, которая предоставляет очень удобные с точки зрения использования инструменты для  ранения данных и работе с ними.\n",
    "<p><i>Библиотека pandas</i> присутствует в стандартной поставке Anaconda. Если же ее там нет, то его можно установить отдельно. Для этого введите командной строке:\n",
    "<br>&nbsp;&nbsp;pip install pandas\n",
    "<br>Для импорта библиотеки используйте команду:\n",
    "<br>&nbsp;&nbsp;import pandas as pd\n",
    "Библиотека pandas предоставляет две ключевые структуры данных: Series и DataFrame.\n",
    "<p><b>Series</b> – это одномерная структура данных, ее можно представить, как таблицу с одной строкой. С Series можно работать как с обычным массивом (обращаться по номеру индекса), и как с ассоциированным массивом, когда можно использовать ключ для доступа к элементам данных.\n",
    "<p><b>DataFrame</b> – это двумерная структура. Идейно она очень похожа на обычную таблицу, что выражается в способе ее создания и работе с ее элементами.\n",
    "\n",
    "## Задание 2.3.1\n",
    "\n",
    "Найдите евклидово расстояние между двумя Series (точками) a и b, не\n",
    "используя встроенную формулу."
   ]
  },
  {
   "cell_type": "code",
   "execution_count": 17,
   "metadata": {},
   "outputs": [
    {
     "name": "stdout",
     "output_type": "stream",
     "text": [
      "5.196152422706632\n"
     ]
    }
   ],
   "source": [
    "import pandas as pd\n",
    "import numpy as np\n",
    "\n",
    "# Создание двух точек\n",
    "a = pd.Series([1, 2, 3])\n",
    "b = pd.Series([4, 5, 6])\n",
    "\n",
    "# Находим евклидово расстояние между двумя Series\n",
    "d = np.sqrt(np.sum((a - b) ** 2))\n",
    "\n",
    "print(d)"
   ]
  },
  {
   "attachments": {},
   "cell_type": "markdown",
   "metadata": {},
   "source": [
    "## Задание 2.3.2\n",
    "\n",
    "Найдите в Интернете ссылку на любой csv файл и сформируйте из него фрейм данных (например, коллекцию фреймов данных можно найти здесь: https://github.com/akmand/datasets)."
   ]
  },
  {
   "cell_type": "code",
   "execution_count": null,
   "metadata": {},
   "outputs": [],
   "source": []
  }
 ],
 "metadata": {
  "kernelspec": {
   "display_name": "base",
   "language": "python",
   "name": "python3"
  },
  "language_info": {
   "codemirror_mode": {
    "name": "ipython",
    "version": 3
   },
   "file_extension": ".py",
   "mimetype": "text/x-python",
   "name": "python",
   "nbconvert_exporter": "python",
   "pygments_lexer": "ipython3",
   "version": "3.9.13"
  },
  "orig_nbformat": 4,
  "vscode": {
   "interpreter": {
    "hash": "effd5ffa0893d4c46fe13a44dda64ba9f68f218083cab2ba7460d7147553a00b"
   }
  }
 },
 "nbformat": 4,
 "nbformat_minor": 2
}
