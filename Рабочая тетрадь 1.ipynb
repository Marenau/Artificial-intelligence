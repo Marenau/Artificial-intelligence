{
 "cells": [
  {
   "attachments": {},
   "cell_type": "markdown",
   "metadata": {},
   "source": [
    "# Рабочая тетрадь №1\n",
    "\n",
    "## Теоретический материал\n",
    "\n",
    "### Типы данных\n",
    "Все типы данных в Python относятся к одной из 2-х категорий:\n",
    "изменяемые (mutable) и неизменяемые (immutable).\n",
    "\n",
    "Неизменяемые объекты:\n",
    "- числовые данные (int, float),\n",
    "- bool,\n",
    "- None,\n",
    "- символьные строки (class 'str'),\n",
    "- кортежи (tuple).\n",
    "\n",
    "Изменяемые объекты:\n",
    "- списки (list),\n",
    "- множества (set),\n",
    "- словари (dict).\n",
    "\n",
    "## Задание 1.3\n",
    "\n",
    "Выведите на печать и определите тип переменной."
   ]
  },
  {
   "cell_type": "code",
   "execution_count": 5,
   "metadata": {},
   "outputs": [
    {
     "name": "stdout",
     "output_type": "stream",
     "text": [
      "True {8, 1, 3, 7} {2, 'apple', 4, 5, 10} set() ('Малин Вадим', 19, 'м') type [1, 'title', 2, 'content']\n",
      "<class 'bool'> <class 'set'> <class 'set'> <class 'set'> <class 'tuple'> <class 'str'> <class 'list'>\n"
     ]
    }
   ],
   "source": [
    "x = 5 >= 2\n",
    "A = {1, 3, 7, 8}\n",
    "B = {2, 4, 5, 10, 'apple'}\n",
    "C = A & B\n",
    "df = 'Малин Вадим', 19 , 'м'\n",
    "z = 'type'\n",
    "D = [1, 'title', 2, 'content']\n",
    "print(x, A, B, C, df, z, D)\n",
    "print(type(x), type(A), type(B), type(C), type(df), type(z), type(D))"
   ]
  },
  {
   "attachments": {},
   "cell_type": "markdown",
   "metadata": {},
   "source": [
    "# Теоретический материал\n",
    "\n",
    "### Условный оператор\n",
    "\n",
    "If – Условный оператор. В коде часто приходится проверять выполнимость или невыполнимость каких-то условий. Синтаксис:\n",
    "<br>if <условие1 (булевское выражение)> :\n",
    "<br>&nbsp;&nbsp;&nbsp;&nbsp;<код, который выполнится, если условие верно>\n",
    "<br>elif <условие2 (булевское выражение)>:\n",
    "<br>&nbsp;&nbsp;&nbsp;&nbsp;<код, который выполнится, если условие1 было неверно, а условие2 верно>\n",
    "<br>else:\n",
    "<br>&nbsp;&nbsp;&nbsp;&nbsp;<код, который выполнится, если условие1 и условие2 были неверны>\n",
    "<p>Обратите внимание, что код, который должен выполняться внутри каждого условия, записывается с отступом в 4 пробела от уровня if, elif и else: в питоне области видимости переменных обозначаются отступами.\n",
    "<br>То есть, отступы позволяют понять, где начинается код, который должен выполняться при выполнении условия в if, и где заканчивается.\n",
    "\n",
    "## Задание 2.2\n",
    "\n",
    "Напишите код. Задается х, напечатать какому из интервалов\n",
    "принадлежит: (-infinity, -5), [-5, 5] или от (5, +infinity)"
   ]
  },
  {
   "cell_type": "code",
   "execution_count": 1,
   "metadata": {},
   "outputs": [
    {
     "name": "stdout",
     "output_type": "stream",
     "text": [
      " 10\n"
     ]
    },
    {
     "name": "stdout",
     "output_type": "stream",
     "text": [
      "(5, +infinity)\n"
     ]
    }
   ],
   "source": [
    "x = int(input())\n",
    "if (x < -5):\n",
    "    print('(-infinity, -5)')\n",
    "elif (x >= -5 and x <= 5):\n",
    "    print('[-5, 5]')\n",
    "else:\n",
    "    print('(5, +infinity)')"
   ]
  },
  {
   "attachments": {},
   "cell_type": "markdown",
   "metadata": {},
   "source": [
    "# Теоретический материал\n",
    "\n",
    "### Циклы, массивы, срезы\n",
    "\n",
    "Циклы - for и while. Цикл while проверяет истинность условия, и если условие истинно, то выполняет инструкции цикла.\n",
    "<br>Синтаксис:\n",
    "<br>while условие:\n",
    "<br>&nbsp;&nbsp;&nbsp;&nbsp;инструкции\n",
    "<p>Инструкции, которые относятся к циклу while, располагаются на последующих строках и должны иметь отступ от начала ключевого слова while.\n",
    "<br>Цикл for проходит по набору значений, помещает каждое значение в переменную с которой в цикле можно производить различные действия.\n",
    "<br>Синтаксис:\n",
    "<br>for переменная in набор_значений:\n",
    "<br>&nbsp;&nbsp;&nbsp;&nbsp;инструкции\n",
    "<p>После ключевого слова for идет название переменной, в которую будут помещаться значения. После оператора in указывается набор значений и двоеточие. Инструкции, которые относятся к циклу,  асполагаются на последующих строках и должны иметь отступ.\n",
    "<p>При создании цикла удобно пользоваться функцией range(a, b), которая создает последовательность чисел от a до b-1.\n",
    "\n",
    "## Задание 3.3.1\n",
    "\n",
    "Выведите числа из примера на while (3.2.1) в обратном порядке."
   ]
  },
  {
   "cell_type": "code",
   "execution_count": null,
   "metadata": {},
   "outputs": [
    {
     "name": "stdout",
     "output_type": "stream",
     "text": [
      "10 7 4 1 "
     ]
    }
   ],
   "source": [
    "x = 10\n",
    "while (x >= 1):\n",
    "    print(x, end = ' ')\n",
    "    x -= 3"
   ]
  },
  {
   "cell_type": "markdown",
   "metadata": {},
   "source": [
    "## Задание 3.3.2\n",
    "\n",
    "При решении задач машинного обучения часто в качестве объектов\n",
    "исследования выступает человек. Создайте список значимых\n",
    "характеристик (признаков), идентифицирующих человека. Выведите\n",
    "список на экран."
   ]
  },
  {
   "cell_type": "code",
   "execution_count": null,
   "metadata": {},
   "outputs": [
    {
     "name": "stdout",
     "output_type": "stream",
     "text": [
      "['Пол', 'Раса', 'Вес', 'Рост']\n"
     ]
    }
   ],
   "source": [
    "humChar = ['Пол', 'Раса', 'Вес', 'Рост']\n",
    "print(humChar)"
   ]
  },
  {
   "cell_type": "markdown",
   "metadata": {},
   "source": [
    "## Задание 3.3.3\n",
    "\n",
    "Создать список чисел от 2 до 15 с шагом 1."
   ]
  },
  {
   "cell_type": "code",
   "execution_count": null,
   "metadata": {},
   "outputs": [
    {
     "name": "stdout",
     "output_type": "stream",
     "text": [
      "[2, 3, 4, 5, 6, 7, 8, 9, 10, 11, 12, 13, 14, 15] "
     ]
    }
   ],
   "source": [
    "lst = list()\n",
    "for i in range(2, 16, 1):\n",
    "    lst.append(i)\n",
    "print(lst)"
   ]
  },
  {
   "cell_type": "markdown",
   "metadata": {},
   "source": [
    "## Задание 3.3.4\n",
    "\n",
    "Выведите числа из примера на for c функцией range() (3.2.4) в\n",
    "обратном порядке."
   ]
  },
  {
   "cell_type": "code",
   "execution_count": null,
   "metadata": {},
   "outputs": [
    {
     "name": "stdout",
     "output_type": "stream",
     "text": [
      "105, 80, 55, 30, 5, "
     ]
    }
   ],
   "source": [
    "for i in range(105, 4, -25):\n",
    "    print(i, end = ' ')"
   ]
  },
  {
   "cell_type": "markdown",
   "metadata": {},
   "source": [
    "## Задание 3.3.5\n",
    "\n",
    "Срез. Напишите код, который все элементы массива x с четными\n",
    "индексами переставит в обратном порядке. Т.е. если x = [0, 1, 2, 3, 4,\n",
    "5, 6, 7, 8, 9], то код должен сформировать [8, 1, 6, 3, 4, 5, 2, 7, 0, 9]."
   ]
  },
  {
   "cell_type": "code",
   "execution_count": null,
   "metadata": {},
   "outputs": [
    {
     "name": "stdout",
     "output_type": "stream",
     "text": [
      "[8, 1, 6, 3, 4, 5, 2, 7, 0, 9]\n"
     ]
    }
   ],
   "source": [
    "x = [0, 1, 2, 3, 4, 5, 6, 7, 8, 9]\n",
    "x[::2] = reversed(x[::2])\n",
    "print(x)"
   ]
  },
  {
   "attachments": {},
   "cell_type": "markdown",
   "metadata": {},
   "source": [
    "# Теоретический материал\n",
    "\n",
    "### Библиотеки\n",
    "\n",
    "Машинное обучение опирается на фундаментальные понятия и законы математики и информатики. Библиотека математических функций (math) применяется при решении большинства прикладных задач анализа данных. Также, и некоторые другие библиотеки Python содержат математические функции (например, NumPy). Важную роль играет библиотека matplotlib, которая позволяет производить визуализацию расчетов в удобной для восприятия человеком форме: графики, диаграммы, гистограммы.\n",
    "<p>Подключение библиотек – синтаксис:\n",
    "<br>import math as m\n",
    "<br>import numpy as np\n",
    "<br>import matplotlib.pyplot as plt\n",
    "<br>etc...\n",
    "<p>Библиотеки в python содержат не только функции, позволяющие решать различные задачи, но и некоторые популярные константы, например число Эйлера.\n",
    "\n",
    "## Задание 4.3.1\n",
    "\n",
    "Задайте массив случайных значений из интервала(0; 1).\n",
    "Рассчитайте средние и медианные значения для массива, сравните\n",
    "результаты, какие выводы можно сделать о значениях?\n",
    "Постройте точечную диаграмму рассения полученного ряда."
   ]
  },
  {
   "cell_type": "code",
   "execution_count": 3,
   "metadata": {},
   "outputs": [
    {
     "ename": "ModuleNotFoundError",
     "evalue": "No module named 'numpy'",
     "output_type": "error",
     "traceback": [
      "\u001b[1;31m---------------------------------------------------------------------------\u001b[0m",
      "\u001b[1;31mModuleNotFoundError\u001b[0m                       Traceback (most recent call last)",
      "Cell \u001b[1;32mIn[3], line 2\u001b[0m\n\u001b[0;32m      1\u001b[0m \u001b[39mimport\u001b[39;00m \u001b[39mrandom\u001b[39;00m \u001b[39mas\u001b[39;00m \u001b[39mr\u001b[39;00m\n\u001b[1;32m----> 2\u001b[0m \u001b[39mimport\u001b[39;00m \u001b[39mnumpy\u001b[39;00m \u001b[39mas\u001b[39;00m \u001b[39mn\u001b[39;00m\n\u001b[0;32m      3\u001b[0m \u001b[39mimport\u001b[39;00m \u001b[39mmatplotlib\u001b[39;00m\u001b[39m.\u001b[39;00m\u001b[39mpyplot\u001b[39;00m \u001b[39mas\u001b[39;00m \u001b[39mplt\u001b[39;00m\n\u001b[0;32m      5\u001b[0m \u001b[39m# Генерация 11 случайных чисел\u001b[39;00m\n",
      "\u001b[1;31mModuleNotFoundError\u001b[0m: No module named 'numpy'"
     ]
    }
   ],
   "source": [
    "import random as r\n",
    "import numpy as n\n",
    "import matplotlib.pyplot as plt\n",
    "\n",
    "# Генерация 11 случайных чисел\n",
    "a = []\n",
    "for i in range(11):\n",
    "    a.append(r.random())\n",
    "\n",
    "# Расчет медианы и среднего значения генерируемых чисел\n",
    "print(a)\n",
    "print(n.median(a), n.mean(a))\n",
    "\n",
    "# Установка размера окна\n",
    "fig = plt.figure(figsize=(5, 5))\n",
    "\n",
    "# Установка заголовка для диаграммы\n",
    "plt.title(\"Диаграмма рассеиния\")\n",
    "\n",
    "# Добавление сетки на диаграмму\n",
    "plt.grid()\n",
    "\n",
    "# Создание диаграммы рассеиния\n",
    "plt.scatter(range( len(a) ), a)\n",
    "\n",
    "# Отображение диаграммы рассеиния\n",
    "plt.show()"
   ]
  },
  {
   "cell_type": "markdown",
   "metadata": {},
   "source": [
    "## Задание 4.3.3\n",
    "\n",
    "Дана функция ... . Создать массив из 10 значений\n",
    "функции (𝑥, например, изменяется от 1 до 10). Выделить срез первой\n",
    "половины массива и построить графики для основного массива –\n",
    "линейный и для среза – точечный"
   ]
  },
  {
   "cell_type": "code",
   "execution_count": 2,
   "metadata": {},
   "outputs": [
    {
     "data": {
      "image/png": "[encoded data removed]",
      "text/plain": [
       "<Figure size 500x500 with 1 Axes>"
      ]
     },
     "metadata": {},
     "output_type": "display_data"
    },
    {
     "data": {
      "image/png": "[encoded data removed]",
      "text/plain": [
       "<Figure size 500x500 with 1 Axes>"
      ]
     },
     "metadata": {},
     "output_type": "display_data"
    }
   ],
   "source": [
    "import math as m\n",
    "from matplotlib import pyplot as plt\n",
    "\n",
    "def f(x):\n",
    "    numerator = m.sqrt( 1 + m.exp(1) ** m.sqrt(x) + m.cos(x ** 2))\n",
    "    denominator = abs( 1 - m.sin(x) ** 3)\n",
    "    return numerator / denominator + m.log( abs(2 * x), m.exp(1) )\n",
    "\n",
    "a = [ f(x) for x in range(1, 11) ]\n",
    "\n",
    "# Установка размера окна\n",
    "plt.figure(figsize=(5, 5))\n",
    "\n",
    "# Создание графика\n",
    "plt.plot(a)\n",
    "\n",
    "# Установка заголовка для диаграммы\n",
    "plt.title('Линейный график')\n",
    "\n",
    "# Добавление сетки на диаграмму\n",
    "plt.grid()\n",
    "\n",
    "# Отображение диаграммы\n",
    "plt.show()\n",
    "\n",
    "# Установка размера окна\n",
    "plt.figure(figsize=(5, 5))\n",
    "\n",
    "# Установка заголовка для диаграммы\n",
    "plt.title(\"Точечный график\")\n",
    "\n",
    "# Добавление сетки на диаграмму\n",
    "plt.grid()\n",
    "\n",
    "# Создание графика\n",
    "plt.scatter(range( len( a[:5:] ) ), a[:5:])\n",
    "\n",
    "# Отображение диаграммы\n",
    "plt.show()"
   ]
  },
  {
   "cell_type": "markdown",
   "metadata": {},
   "source": [
    "## Задание 4.3.3\n",
    "\n",
    "Дана функция ... . Построить график на\n",
    "интервале (0,10) с шагом 1 с заливкой площади и найти эту площадь\n",
    "под ним. Для вычисления площади воспользуйте функции trapz(),\n",
    "вычисляющей интеграл по правилу трапеции."
   ]
  },
  {
   "cell_type": "code",
   "execution_count": 3,
   "metadata": {},
   "outputs": [
    {
     "data": {
      "image/png": "[encoded data removed]",
      "text/plain": [
       "<Figure size 500x500 with 1 Axes>"
      ]
     },
     "metadata": {},
     "output_type": "display_data"
    },
    {
     "name": "stdout",
     "output_type": "stream",
     "text": [
      "6.260345875494736\n"
     ]
    }
   ],
   "source": [
    "import math as m\n",
    "from matplotlib import pyplot as plt\n",
    "from scipy.integrate import simps\n",
    "from numpy import trapz\n",
    "\n",
    "def f(x):\n",
    "    pow = m.cos(x) + m.log( x + 1, m.exp(1) )\n",
    "    return abs( m.cos( x * m.exp(1) ** pow ) )\n",
    "\n",
    "a = [ f(x) for x in range(0, 10, 1) ]\n",
    "\n",
    "# Установка размера окна\n",
    "plt.figure(figsize=(5, 5))\n",
    "\n",
    "# Создание графика, c - color\n",
    "plt.plot([i for i in range(0, 10)], a, c = 'black')\n",
    "\n",
    "# Закрашивание области под графиком\n",
    "plt.fill_between([i for i in range(0, 10)], a)\n",
    "\n",
    "# Установка заголовка для диаграммы\n",
    "plt.title('Линейный график')\n",
    "\n",
    "# Добавление сетки на диаграмму\n",
    "plt.grid()\n",
    "\n",
    "# Отображение диаграммы\n",
    "plt.show()\n",
    "\n",
    "# Вычисление площади\n",
    "area = trapz(a)\n",
    "\n",
    "print(area)"
   ]
  },
  {
   "cell_type": "markdown",
   "metadata": {},
   "source": [
    "## Задание 4.3.4\n",
    "\n",
    "Откройте статистические данные по стоимости акций Apple,\n",
    "Microsoft, Google за 12 месяцев 2021 г. Постройте 3 графика на\n",
    "плоскости и оцените их динамику. Подумайте, как можно улучшить\n",
    "читаемость результатов."
   ]
  },
  {
   "cell_type": "code",
   "execution_count": 4,
   "metadata": {},
   "outputs": [
    {
     "data": {
      "image/png": "[encoded data removed]",
      "text/plain": [
       "<Figure size 640x480 with 1 Axes>"
      ]
     },
     "metadata": {},
     "output_type": "display_data"
    }
   ],
   "source": [
    "import matplotlib.pyplot as plt\n",
    "\n",
    "apple = [132.05, 121.26, 121.39, 134.16, 124.61, 136.33, 145.06, 149.10, 148.97, 142.66, 153.65, 169.48]\n",
    "microsoft = [232.33, 234.51, 227.39, 252.18, 249.68, 270.90, 284.91, 303.28, 302.01, 290.38, 314.95, 337.80]\n",
    "google = [1835.74, 2001.05, 2026.44, 2307.12, 2356.09, 2513.93, 2704.09, 2704.97, 2821.98, 2729.76, 3073.63, 2803.96]\n",
    "\n",
    "# Данные об акциях Apple, Microsoft и Google\n",
    "apple = [132.05, 121.26, 121.39, 134.16, 124.61, 136.33, 145.06, 149.10, 148.97, 142.66, 153.65, 169.48]\n",
    "microsoft = [232.33, 234.51, 227.39, 252.18, 249.68, 270.90, 284.91, 303.28, 302.01, 290.38, 314.95, 337.80]\n",
    "google = [1835.74, 2001.05, 2026.44, 2307.12, 2356.09, 2513.93, 2704.09, 2704.97, 2821.98, 2729.76, 3073.63, 2803.96]\n",
    "\n",
    "# Даты за 12 месяцев 2021 года\n",
    "months = ['Янв', 'Фев', 'Март', 'Апр', 'Май', 'Июнь', 'Июль', 'Авг', 'Сен', 'Окт', 'Ноя', 'Дек']\n",
    "\n",
    "# Построение графиков\n",
    "plt.plot(months, apple, label='Apple')\n",
    "plt.plot(months, microsoft, label='Microsoft')\n",
    "plt.plot(months, google, label='Google')\n",
    "\n",
    "# Настройки графиков\n",
    "plt.xlabel('Месяц')\n",
    "plt.ylabel('Стоимость акций ($)')\n",
    "plt.title('Стоимость акций в 2021')\n",
    "\n",
    "plt.show()"
   ]
  },
  {
   "cell_type": "markdown",
   "metadata": {},
   "source": [
    "## Задание 4.3.5\n",
    "\n",
    "Создайте простейший калькулятор, включающий основные действия\n",
    "для двух переменных ′ + ′, ′ − ′, ′ ∙ ′, ′ ÷ ′, а также вычисление\n",
    "следующих функций: e ** (x + y), sin(x + y), cos(x + y), x ** y"
   ]
  },
  {
   "cell_type": "code",
   "execution_count": 5,
   "metadata": {},
   "outputs": [
    {
     "name": "stdout",
     "output_type": "stream",
     "text": [
      "Введите первое число:  10\n",
      "Введите второе число:  4\n",
      "Введите операцию (+, -, *, /, exp, sin, cos, ^):  sin\n"
     ]
    },
    {
     "name": "stdout",
     "output_type": "stream",
     "text": [
      "Результат:  0.9906073556948704\n"
     ]
    },
    {
     "name": "stdout",
     "output_type": "stream",
     "text": [
      "Желаете продолжить вычисления (y/n)?  n\n"
     ]
    }
   ],
   "source": [
    "import math as m\n",
    "\n",
    "def calculator():\n",
    "  while True:\n",
    "    num1 = float(input(\"Введите первое число: \"))\n",
    "    num2 = float(input(\"Введите второе число: \"))\n",
    "    operation = input(\"Введите операцию (+, -, *, /, exp, sin, cos, ^): \")\n",
    "    \n",
    "    if operation == '+':\n",
    "      result = num1 + num2\n",
    "    elif operation == '-':\n",
    "      result = num1 - num2\n",
    "    elif operation == '*':\n",
    "      result = num1 * num2\n",
    "    elif operation == '/':\n",
    "      result = num1 / num2\n",
    "    elif operation == 'exp':\n",
    "        result = m.exp(1) ** (num1 + num2)\n",
    "    elif operation == 'sin':\n",
    "        result = m.sin(num1 + num2)\n",
    "    elif operation == 'cos':\n",
    "        result = m.cos(num1 + num2)\n",
    "    elif operation == '^':\n",
    "        result = num1 ** num2\n",
    "    else:\n",
    "      print(\"Некорректная операция!\")\n",
    "      continue\n",
    "    \n",
    "    print(\"Результат: \", result)\n",
    "    \n",
    "    again = input(\"Желаете продолжить вычисления (y/n)? \")\n",
    "    if again.lower() != 'y':\n",
    "      break\n",
    "      \n",
    "calculator()"
   ]
  }
 ],
 "metadata": {
  "kernelspec": {
   "display_name": "Python 3 (ipykernel)",
   "language": "python",
   "name": "python3"
  },
  "language_info": {
   "codemirror_mode": {
    "name": "ipython",
    "version": 3
   },
   "file_extension": ".py",
   "mimetype": "text/x-python",
   "name": "python",
   "nbconvert_exporter": "python",
   "pygments_lexer": "ipython3",
   "version": "3.9.0"
  },
  "vscode": {
   "interpreter": {
    "hash": "7edb6fbf6d29ee27620a9daa3c9594d52268aac3a1ec18306b92f8b3053d545a"
   }
  }
 },
 "nbformat": 4,
 "nbformat_minor": 4
}
